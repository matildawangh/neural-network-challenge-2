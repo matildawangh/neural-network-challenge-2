{
 "cells": [
  {
   "cell_type": "code",
   "execution_count": 18,
   "metadata": {},
   "outputs": [],
   "source": [
    "# EDA: seeing data types and NaN value, p value, statsical significant \n",
    "# split the data into training and testing\n",
    "# turning the catagorical into numerical data (# fit the data with encoder)\n",
    "# scale the data (# fit the data to scaler)\n",
    "# "
   ]
  },
  {
   "cell_type": "markdown",
   "metadata": {
    "id": "alIIEHibGc3M"
   },
   "source": [
    "## Part 1: Preprocessing"
   ]
  },
  {
   "cell_type": "code",
   "execution_count": 19,
   "metadata": {
    "colab": {
     "base_uri": "https://localhost:8080/",
     "height": 325
    },
    "id": "6eDUJ4NtGc3P",
    "outputId": "2480098c-135c-4cbf-9552-018494ee8ff5"
   },
   "outputs": [
    {
     "data": {
      "text/html": [
       "<div>\n",
       "<style scoped>\n",
       "    .dataframe tbody tr th:only-of-type {\n",
       "        vertical-align: middle;\n",
       "    }\n",
       "\n",
       "    .dataframe tbody tr th {\n",
       "        vertical-align: top;\n",
       "    }\n",
       "\n",
       "    .dataframe thead th {\n",
       "        text-align: right;\n",
       "    }\n",
       "</style>\n",
       "<table border=\"1\" class=\"dataframe\">\n",
       "  <thead>\n",
       "    <tr style=\"text-align: right;\">\n",
       "      <th></th>\n",
       "      <th>Age</th>\n",
       "      <th>Attrition</th>\n",
       "      <th>BusinessTravel</th>\n",
       "      <th>Department</th>\n",
       "      <th>DistanceFromHome</th>\n",
       "      <th>Education</th>\n",
       "      <th>EducationField</th>\n",
       "      <th>EnvironmentSatisfaction</th>\n",
       "      <th>HourlyRate</th>\n",
       "      <th>JobInvolvement</th>\n",
       "      <th>...</th>\n",
       "      <th>PerformanceRating</th>\n",
       "      <th>RelationshipSatisfaction</th>\n",
       "      <th>StockOptionLevel</th>\n",
       "      <th>TotalWorkingYears</th>\n",
       "      <th>TrainingTimesLastYear</th>\n",
       "      <th>WorkLifeBalance</th>\n",
       "      <th>YearsAtCompany</th>\n",
       "      <th>YearsInCurrentRole</th>\n",
       "      <th>YearsSinceLastPromotion</th>\n",
       "      <th>YearsWithCurrManager</th>\n",
       "    </tr>\n",
       "  </thead>\n",
       "  <tbody>\n",
       "    <tr>\n",
       "      <th>0</th>\n",
       "      <td>41</td>\n",
       "      <td>Yes</td>\n",
       "      <td>Travel_Rarely</td>\n",
       "      <td>Sales</td>\n",
       "      <td>1</td>\n",
       "      <td>2</td>\n",
       "      <td>Life Sciences</td>\n",
       "      <td>2</td>\n",
       "      <td>94</td>\n",
       "      <td>3</td>\n",
       "      <td>...</td>\n",
       "      <td>3</td>\n",
       "      <td>1</td>\n",
       "      <td>0</td>\n",
       "      <td>8</td>\n",
       "      <td>0</td>\n",
       "      <td>1</td>\n",
       "      <td>6</td>\n",
       "      <td>4</td>\n",
       "      <td>0</td>\n",
       "      <td>5</td>\n",
       "    </tr>\n",
       "    <tr>\n",
       "      <th>1</th>\n",
       "      <td>49</td>\n",
       "      <td>No</td>\n",
       "      <td>Travel_Frequently</td>\n",
       "      <td>Research &amp; Development</td>\n",
       "      <td>8</td>\n",
       "      <td>1</td>\n",
       "      <td>Life Sciences</td>\n",
       "      <td>3</td>\n",
       "      <td>61</td>\n",
       "      <td>2</td>\n",
       "      <td>...</td>\n",
       "      <td>4</td>\n",
       "      <td>4</td>\n",
       "      <td>1</td>\n",
       "      <td>10</td>\n",
       "      <td>3</td>\n",
       "      <td>3</td>\n",
       "      <td>10</td>\n",
       "      <td>7</td>\n",
       "      <td>1</td>\n",
       "      <td>7</td>\n",
       "    </tr>\n",
       "    <tr>\n",
       "      <th>2</th>\n",
       "      <td>37</td>\n",
       "      <td>Yes</td>\n",
       "      <td>Travel_Rarely</td>\n",
       "      <td>Research &amp; Development</td>\n",
       "      <td>2</td>\n",
       "      <td>2</td>\n",
       "      <td>Other</td>\n",
       "      <td>4</td>\n",
       "      <td>92</td>\n",
       "      <td>2</td>\n",
       "      <td>...</td>\n",
       "      <td>3</td>\n",
       "      <td>2</td>\n",
       "      <td>0</td>\n",
       "      <td>7</td>\n",
       "      <td>3</td>\n",
       "      <td>3</td>\n",
       "      <td>0</td>\n",
       "      <td>0</td>\n",
       "      <td>0</td>\n",
       "      <td>0</td>\n",
       "    </tr>\n",
       "    <tr>\n",
       "      <th>3</th>\n",
       "      <td>33</td>\n",
       "      <td>No</td>\n",
       "      <td>Travel_Frequently</td>\n",
       "      <td>Research &amp; Development</td>\n",
       "      <td>3</td>\n",
       "      <td>4</td>\n",
       "      <td>Life Sciences</td>\n",
       "      <td>4</td>\n",
       "      <td>56</td>\n",
       "      <td>3</td>\n",
       "      <td>...</td>\n",
       "      <td>3</td>\n",
       "      <td>3</td>\n",
       "      <td>0</td>\n",
       "      <td>8</td>\n",
       "      <td>3</td>\n",
       "      <td>3</td>\n",
       "      <td>8</td>\n",
       "      <td>7</td>\n",
       "      <td>3</td>\n",
       "      <td>0</td>\n",
       "    </tr>\n",
       "    <tr>\n",
       "      <th>4</th>\n",
       "      <td>27</td>\n",
       "      <td>No</td>\n",
       "      <td>Travel_Rarely</td>\n",
       "      <td>Research &amp; Development</td>\n",
       "      <td>2</td>\n",
       "      <td>1</td>\n",
       "      <td>Medical</td>\n",
       "      <td>1</td>\n",
       "      <td>40</td>\n",
       "      <td>3</td>\n",
       "      <td>...</td>\n",
       "      <td>3</td>\n",
       "      <td>4</td>\n",
       "      <td>1</td>\n",
       "      <td>6</td>\n",
       "      <td>3</td>\n",
       "      <td>3</td>\n",
       "      <td>2</td>\n",
       "      <td>2</td>\n",
       "      <td>2</td>\n",
       "      <td>2</td>\n",
       "    </tr>\n",
       "  </tbody>\n",
       "</table>\n",
       "<p>5 rows × 27 columns</p>\n",
       "</div>"
      ],
      "text/plain": [
       "   Age Attrition     BusinessTravel              Department  DistanceFromHome  \\\n",
       "0   41       Yes      Travel_Rarely                   Sales                 1   \n",
       "1   49        No  Travel_Frequently  Research & Development                 8   \n",
       "2   37       Yes      Travel_Rarely  Research & Development                 2   \n",
       "3   33        No  Travel_Frequently  Research & Development                 3   \n",
       "4   27        No      Travel_Rarely  Research & Development                 2   \n",
       "\n",
       "   Education EducationField  EnvironmentSatisfaction  HourlyRate  \\\n",
       "0          2  Life Sciences                        2          94   \n",
       "1          1  Life Sciences                        3          61   \n",
       "2          2          Other                        4          92   \n",
       "3          4  Life Sciences                        4          56   \n",
       "4          1        Medical                        1          40   \n",
       "\n",
       "   JobInvolvement  ...  PerformanceRating RelationshipSatisfaction  \\\n",
       "0               3  ...                  3                        1   \n",
       "1               2  ...                  4                        4   \n",
       "2               2  ...                  3                        2   \n",
       "3               3  ...                  3                        3   \n",
       "4               3  ...                  3                        4   \n",
       "\n",
       "   StockOptionLevel TotalWorkingYears  TrainingTimesLastYear WorkLifeBalance  \\\n",
       "0                 0                 8                      0               1   \n",
       "1                 1                10                      3               3   \n",
       "2                 0                 7                      3               3   \n",
       "3                 0                 8                      3               3   \n",
       "4                 1                 6                      3               3   \n",
       "\n",
       "   YearsAtCompany  YearsInCurrentRole  YearsSinceLastPromotion  \\\n",
       "0               6                   4                        0   \n",
       "1              10                   7                        1   \n",
       "2               0                   0                        0   \n",
       "3               8                   7                        3   \n",
       "4               2                   2                        2   \n",
       "\n",
       "   YearsWithCurrManager  \n",
       "0                     5  \n",
       "1                     7  \n",
       "2                     0  \n",
       "3                     0  \n",
       "4                     2  \n",
       "\n",
       "[5 rows x 27 columns]"
      ]
     },
     "execution_count": 19,
     "metadata": {},
     "output_type": "execute_result"
    }
   ],
   "source": [
    "# Import our dependencies\n",
    "from sklearn.model_selection import train_test_split\n",
    "from sklearn.preprocessing import StandardScaler\n",
    "import pandas as pd\n",
    "import numpy as np\n",
    "from tensorflow.keras.models import Model\n",
    "from tensorflow.keras import layers\n",
    "\n",
    "#  Import and read the attrition data\n",
    "attrition_df = pd.read_csv('https://static.bc-edx.com/ai/ail-v-1-0/m19/lms/datasets/attrition.csv')\n",
    "attrition_df.head()"
   ]
  },
  {
   "cell_type": "code",
   "execution_count": 20,
   "metadata": {
    "colab": {
     "base_uri": "https://localhost:8080/"
    },
    "id": "g22aQSY4Gc3Q",
    "outputId": "1f5c13c1-b981-4e40-a7ed-dd3fe6f1b81e"
   },
   "outputs": [
    {
     "data": {
      "text/plain": [
       "Age                         43\n",
       "Attrition                    2\n",
       "BusinessTravel               3\n",
       "Department                   3\n",
       "DistanceFromHome            29\n",
       "Education                    5\n",
       "EducationField               6\n",
       "EnvironmentSatisfaction      4\n",
       "HourlyRate                  71\n",
       "JobInvolvement               4\n",
       "JobLevel                     5\n",
       "JobRole                      9\n",
       "JobSatisfaction              4\n",
       "MaritalStatus                3\n",
       "NumCompaniesWorked          10\n",
       "OverTime                     2\n",
       "PercentSalaryHike           15\n",
       "PerformanceRating            2\n",
       "RelationshipSatisfaction     4\n",
       "StockOptionLevel             4\n",
       "TotalWorkingYears           40\n",
       "TrainingTimesLastYear        7\n",
       "WorkLifeBalance              4\n",
       "YearsAtCompany              37\n",
       "YearsInCurrentRole          19\n",
       "YearsSinceLastPromotion     16\n",
       "YearsWithCurrManager        18\n",
       "dtype: int64"
      ]
     },
     "execution_count": 20,
     "metadata": {},
     "output_type": "execute_result"
    }
   ],
   "source": [
    "# Determine the number of unique values in each column.\n",
    "attrition_df.nunique()"
   ]
  },
  {
   "cell_type": "code",
   "execution_count": 21,
   "metadata": {
    "id": "50vMgBEnJbfM"
   },
   "outputs": [
    {
     "data": {
      "text/html": [
       "<div>\n",
       "<style scoped>\n",
       "    .dataframe tbody tr th:only-of-type {\n",
       "        vertical-align: middle;\n",
       "    }\n",
       "\n",
       "    .dataframe tbody tr th {\n",
       "        vertical-align: top;\n",
       "    }\n",
       "\n",
       "    .dataframe thead th {\n",
       "        text-align: right;\n",
       "    }\n",
       "</style>\n",
       "<table border=\"1\" class=\"dataframe\">\n",
       "  <thead>\n",
       "    <tr style=\"text-align: right;\">\n",
       "      <th></th>\n",
       "      <th>Attrition</th>\n",
       "      <th>Department</th>\n",
       "    </tr>\n",
       "  </thead>\n",
       "  <tbody>\n",
       "    <tr>\n",
       "      <th>0</th>\n",
       "      <td>Yes</td>\n",
       "      <td>Sales</td>\n",
       "    </tr>\n",
       "    <tr>\n",
       "      <th>1</th>\n",
       "      <td>No</td>\n",
       "      <td>Research &amp; Development</td>\n",
       "    </tr>\n",
       "    <tr>\n",
       "      <th>2</th>\n",
       "      <td>Yes</td>\n",
       "      <td>Research &amp; Development</td>\n",
       "    </tr>\n",
       "    <tr>\n",
       "      <th>3</th>\n",
       "      <td>No</td>\n",
       "      <td>Research &amp; Development</td>\n",
       "    </tr>\n",
       "    <tr>\n",
       "      <th>4</th>\n",
       "      <td>No</td>\n",
       "      <td>Research &amp; Development</td>\n",
       "    </tr>\n",
       "    <tr>\n",
       "      <th>...</th>\n",
       "      <td>...</td>\n",
       "      <td>...</td>\n",
       "    </tr>\n",
       "    <tr>\n",
       "      <th>1465</th>\n",
       "      <td>No</td>\n",
       "      <td>Research &amp; Development</td>\n",
       "    </tr>\n",
       "    <tr>\n",
       "      <th>1466</th>\n",
       "      <td>No</td>\n",
       "      <td>Research &amp; Development</td>\n",
       "    </tr>\n",
       "    <tr>\n",
       "      <th>1467</th>\n",
       "      <td>No</td>\n",
       "      <td>Research &amp; Development</td>\n",
       "    </tr>\n",
       "    <tr>\n",
       "      <th>1468</th>\n",
       "      <td>No</td>\n",
       "      <td>Sales</td>\n",
       "    </tr>\n",
       "    <tr>\n",
       "      <th>1469</th>\n",
       "      <td>No</td>\n",
       "      <td>Research &amp; Development</td>\n",
       "    </tr>\n",
       "  </tbody>\n",
       "</table>\n",
       "<p>1470 rows × 2 columns</p>\n",
       "</div>"
      ],
      "text/plain": [
       "     Attrition              Department\n",
       "0          Yes                   Sales\n",
       "1           No  Research & Development\n",
       "2          Yes  Research & Development\n",
       "3           No  Research & Development\n",
       "4           No  Research & Development\n",
       "...        ...                     ...\n",
       "1465        No  Research & Development\n",
       "1466        No  Research & Development\n",
       "1467        No  Research & Development\n",
       "1468        No                   Sales\n",
       "1469        No  Research & Development\n",
       "\n",
       "[1470 rows x 2 columns]"
      ]
     },
     "execution_count": 21,
     "metadata": {},
     "output_type": "execute_result"
    }
   ],
   "source": [
    "# Create y_df with the Attrition and Department columns\n",
    "y_df= attrition_df[[\"Attrition\",\"Department\"]]\n",
    "y_df"
   ]
  },
  {
   "cell_type": "code",
   "execution_count": 22,
   "metadata": {
    "colab": {
     "base_uri": "https://localhost:8080/"
    },
    "id": "Virka0zLGc3R",
    "outputId": "dd5aee3a-9458-4ba6-e857-1b234de40915"
   },
   "outputs": [
    {
     "name": "stdout",
     "output_type": "stream",
     "text": [
      "['Education', 'Age', 'DistanceFromHome', 'JobSatisfaction', 'OverTime', 'StockOptionLevel', 'WorkLifeBalance', 'YearsAtCompany', 'YearsSinceLastPromotion', 'NumCompaniesWorked']\n"
     ]
    },
    {
     "data": {
      "text/plain": [
       "Education                   int64\n",
       "Age                         int64\n",
       "DistanceFromHome            int64\n",
       "JobSatisfaction             int64\n",
       "OverTime                   object\n",
       "StockOptionLevel            int64\n",
       "WorkLifeBalance             int64\n",
       "YearsAtCompany              int64\n",
       "YearsSinceLastPromotion     int64\n",
       "NumCompaniesWorked          int64\n",
       "dtype: object"
      ]
     },
     "execution_count": 22,
     "metadata": {},
     "output_type": "execute_result"
    }
   ],
   "source": [
    "# Create a list of at least 10 column names to use as X data\n",
    "x_columns_specified = ['Education', 'Age', 'DistanceFromHome', 'JobSatisfaction', 'OverTime',\n",
    "                       'StockOptionLevel', 'WorkLifeBalance', 'YearsAtCompany', \n",
    "                       'YearsSinceLastPromotion', 'NumCompaniesWorked']\n",
    "print(x_columns_specified)\n",
    "\n",
    "# Create X_df using your selected columns\n",
    "X_df = attrition_df[x_columns_specified]\n",
    "\n",
    "# Show the data types for X_df\n",
    "X_df\n",
    "X_df.dtypes\n"
   ]
  },
  {
   "cell_type": "code",
   "execution_count": 23,
   "metadata": {
    "id": "KaJfdOGUMHMR"
   },
   "outputs": [],
   "source": [
    "# Split the data into training and testing sets\n",
    "from sklearn.model_selection import train_test_split\n",
    "\n",
    "X_train, X_test, y_train, y_test = train_test_split(X_df, y_df)"
   ]
  },
  {
   "cell_type": "code",
   "execution_count": 24,
   "metadata": {
    "colab": {
     "base_uri": "https://localhost:8080/"
    },
    "id": "NYubUJqiLCSp",
    "outputId": "53f31721-571c-4c94-d13e-25a715749593"
   },
   "outputs": [
    {
     "data": {
      "text/plain": [
       "OverTime\n",
       "No     792\n",
       "Yes    310\n",
       "Name: count, dtype: int64"
      ]
     },
     "execution_count": 24,
     "metadata": {},
     "output_type": "execute_result"
    }
   ],
   "source": [
    "# Convert your X data to numeric data types however you see fit\n",
    "# Add new code cells as necessary\n",
    "X_train['OverTime'].value_counts()"
   ]
  },
  {
   "cell_type": "code",
   "execution_count": 25,
   "metadata": {},
   "outputs": [
    {
     "name": "stdout",
     "output_type": "stream",
     "text": [
      "Education                    int64\n",
      "Age                          int64\n",
      "DistanceFromHome             int64\n",
      "JobSatisfaction              int64\n",
      "StockOptionLevel             int64\n",
      "WorkLifeBalance              int64\n",
      "YearsAtCompany               int64\n",
      "YearsSinceLastPromotion      int64\n",
      "NumCompaniesWorked           int64\n",
      "OverTimeEncoded            float64\n",
      "dtype: object\n",
      "Education                    int64\n",
      "Age                          int64\n",
      "DistanceFromHome             int64\n",
      "JobSatisfaction              int64\n",
      "StockOptionLevel             int64\n",
      "WorkLifeBalance              int64\n",
      "YearsAtCompany               int64\n",
      "YearsSinceLastPromotion      int64\n",
      "NumCompaniesWorked           int64\n",
      "OverTimeEncoded            float64\n",
      "dtype: object\n"
     ]
    }
   ],
   "source": [
    "from sklearn.preprocessing import OneHotEncoder\n",
    "\n",
    "# handle_unknown=\"ignore\" (take NaN and turn it into 0)\n",
    "enc= OneHotEncoder(handle_unknown=\"ignore\",sparse_output=False,drop = \"first\")\n",
    "\n",
    "# \n",
    "enc.fit(np.array(X_train['OverTime']).reshape(-1,1))\n",
    "X_train['OverTimeEncoded'] = enc.transform(np.array(X_train['OverTime']).reshape(-1,1))\n",
    "X_test['OverTimeEncoded'] = enc.transform(np.array(X_test['OverTime']).reshape(-1,1))     \n",
    "\n",
    "X_train = X_train.drop(columns = \"OverTime\")\n",
    "X_test = X_test.drop(columns = \"OverTime\")\n",
    "print(X_train.dtypes)\n",
    "print(X_test.dtypes)"
   ]
  },
  {
   "cell_type": "code",
   "execution_count": 26,
   "metadata": {},
   "outputs": [
    {
     "name": "stdout",
     "output_type": "stream",
     "text": [
      "<class 'numpy.ndarray'>\n",
      "[[1 2]\n",
      " [3 4]]\n",
      "[1 2 3 4]\n"
     ]
    }
   ],
   "source": [
    "list1 = np.array([1,2,3,4])\n",
    "print(type(list1))\n",
    "\n",
    "list2 = list1.reshape(-1,2)\n",
    "print(list2)\n",
    "print(list1)"
   ]
  },
  {
   "cell_type": "code",
   "execution_count": 27,
   "metadata": {
    "id": "EWA-aIA5Gc3T"
   },
   "outputs": [],
   "source": [
    "from sklearn.preprocessing import StandardScaler\n",
    "# Create a StandardScaler (for positive and negitive value)\n",
    "scaler = StandardScaler()\n",
    "\n",
    "# Fit the StandardScaler to the training data\n",
    "scaler.fit(X_train)\n",
    "\n",
    "# Scale the training and testing data\n",
    "X_train_scaled = scaler.transform(X_train)\n",
    "X_test_scaled = scaler.transform(X_test)\n"
   ]
  },
  {
   "cell_type": "code",
   "execution_count": 28,
   "metadata": {
    "colab": {
     "base_uri": "https://localhost:8080/"
    },
    "id": "-z0Mky8vQSz4",
    "outputId": "debefc85-c20b-48f5-f4d9-91eadd65d36a"
   },
   "outputs": [
    {
     "data": {
      "text/plain": [
       "array([[1., 0.],\n",
       "       [1., 0.],\n",
       "       [0., 1.],\n",
       "       ...,\n",
       "       [0., 1.],\n",
       "       [1., 0.],\n",
       "       [0., 1.]])"
      ]
     },
     "execution_count": 28,
     "metadata": {},
     "output_type": "execute_result"
    }
   ],
   "source": [
    "from sklearn.preprocessing import OneHotEncoder\n",
    "# Create a OneHotEncoder for the Department column\n",
    "enc_department = OneHotEncoder(handle_unknown=\"ignore\",sparse_output=False,drop = \"first\")\n",
    "\n",
    "# Fit the encoder to the training data\n",
    "enc_department.fit(np.array(y_train['Department']).reshape(-1,1))\n",
    "\n",
    "# Create two new variables by applying the encoder\n",
    "# to the training and testing data\n",
    "y_department_train= enc_department.transform(np.array(y_train['Department']).reshape(-1,1))\n",
    "y_department_test= enc_department.transform(np.array(y_test['Department']).reshape(-1,1))\n",
    "\n",
    "y_department_train"
   ]
  },
  {
   "cell_type": "code",
   "execution_count": 29,
   "metadata": {
    "colab": {
     "base_uri": "https://localhost:8080/"
    },
    "id": "-G4DSpvFRrk4",
    "outputId": "9842e948-8a55-4b80-8fac-f96714e85589"
   },
   "outputs": [],
   "source": [
    "# Create a OneHotEncoder for the Attrition column\n",
    "enc_attrition = OneHotEncoder(handle_unknown='ignore', sparse_output=False, drop=None)\n",
    "\n",
    "# Fit the encoder to the training data\n",
    "enc_attrition.fit(np.array(y_train['Attrition']).reshape(-1,1))\n",
    "\n",
    "# Create two new variables by applying the encoder\n",
    "# to the training and testing data\n",
    "y_attrition_train = enc_attrition.transform(np.array(y_train['Attrition']).reshape(-1,1))\n",
    "y_attrition_test = enc_attrition.transform(np.array(y_test['Attrition']).reshape(-1,1))\n"
   ]
  },
  {
   "cell_type": "markdown",
   "metadata": {
    "id": "ykNmu_WWGc3T"
   },
   "source": [
    "## Create, Compile, and Train the Model"
   ]
  },
  {
   "cell_type": "code",
   "execution_count": 30,
   "metadata": {
    "id": "WUptZqmSGc3T"
   },
   "outputs": [
    {
     "name": "stdout",
     "output_type": "stream",
     "text": [
      "10\n"
     ]
    }
   ],
   "source": [
    "# Find the number of columns in the X training data\n",
    "number_of_colums = len(X_train.columns)\n",
    "print(number_of_colums)\n",
    "# Create the input layer\n",
    "input = layers.Input(number_of_colums,name= \"input\")\n",
    "\n",
    "# Create at least two shared layers\n",
    "shared1 = layers.Dense(64,activation = 'relu',name = \"shared1\")(input)\n",
    "shared2 = layers.Dense(128,activation = 'relu',name = \"shared2\")(shared1)"
   ]
  },
  {
   "cell_type": "code",
   "execution_count": 31,
   "metadata": {
    "id": "JukjTm2yTEqd"
   },
   "outputs": [],
   "source": [
    "# Create a branch for Department\n",
    "# with a hidden layer and an output layer\n",
    "\n",
    "# Create the hidden layer\n",
    "department_hidden = layers.Dense(32,activation = 'relu', name = 'department_hidden')(shared2)\n",
    "\n",
    "# Create the output layer\n",
    "department_output = layers.Dense(y_department_train.shape[1],activation='sigmoid', name ='department_output')(department_hidden)\n"
   ]
  },
  {
   "cell_type": "code",
   "execution_count": 32,
   "metadata": {},
   "outputs": [
    {
     "data": {
      "text/plain": [
       "2"
      ]
     },
     "execution_count": 32,
     "metadata": {},
     "output_type": "execute_result"
    }
   ],
   "source": [
    "y_department_train.shape[1]"
   ]
  },
  {
   "cell_type": "code",
   "execution_count": 33,
   "metadata": {
    "id": "9OqhUiOJUBkR"
   },
   "outputs": [],
   "source": [
    "# Create a branch for Attrition\n",
    "# with a hidden layer and an output layer\n",
    "\n",
    "# Create the hidden layer\n",
    "attrition_hidden = layers.Dense(32, activation=\"relu\", name='attrition_hidden')(shared2)\n",
    "\n",
    "# Create the output layer\n",
    "attrition_output = layers.Dense(y_attrition_train.shape[1], activation='sigmoid', name ='attrition_output')(attrition_hidden)\n"
   ]
  },
  {
   "cell_type": "code",
   "execution_count": 35,
   "metadata": {
    "colab": {
     "base_uri": "https://localhost:8080/"
    },
    "id": "twmuejdxGc3T",
    "outputId": "25096308-b68b-42e4-e4ea-ae82e97c435a"
   },
   "outputs": [
    {
     "name": "stdout",
     "output_type": "stream",
     "text": [
      "Model: \"model_2\"\n",
      "__________________________________________________________________________________________________\n",
      " Layer (type)                   Output Shape         Param #     Connected to                     \n",
      "==================================================================================================\n",
      " input (InputLayer)             [(None, 10)]         0           []                               \n",
      "                                                                                                  \n",
      " shared1 (Dense)                (None, 64)           704         ['input[0][0]']                  \n",
      "                                                                                                  \n",
      " shared2 (Dense)                (None, 128)          8320        ['shared1[0][0]']                \n",
      "                                                                                                  \n",
      " department_hidden (Dense)      (None, 32)           4128        ['shared2[0][0]']                \n",
      "                                                                                                  \n",
      " attrition_hidden (Dense)       (None, 32)           4128        ['shared2[0][0]']                \n",
      "                                                                                                  \n",
      " department_output (Dense)      (None, 2)            66          ['department_hidden[0][0]']      \n",
      "                                                                                                  \n",
      " attrition_output (Dense)       (None, 2)            66          ['attrition_hidden[0][0]']       \n",
      "                                                                                                  \n",
      "==================================================================================================\n",
      "Total params: 17,412\n",
      "Trainable params: 17,412\n",
      "Non-trainable params: 0\n",
      "__________________________________________________________________________________________________\n"
     ]
    }
   ],
   "source": [
    "# Create the model\n",
    "nn_model = Model(inputs=input, outputs=[department_output,attrition_output])\n",
    "\n",
    "# Compile the model\n",
    "nn_model.compile(optimizer='adam',\n",
    "              loss={\n",
    "                  'department_output': 'categorical_crossentropy',\n",
    "                  'attrition_output': 'binary_crossentropy'\n",
    "              },\n",
    "              metrics={\n",
    "                  'department_output': 'accuracy',\n",
    "                  'attrition_output': 'accuracy'\n",
    "              })\n",
    "\n",
    "# Summarize the model\n",
    "nn_model.summary()\n"
   ]
  },
  {
   "cell_type": "code",
   "execution_count": 36,
   "metadata": {
    "colab": {
     "base_uri": "https://localhost:8080/"
    },
    "id": "c8oGy0dpGc3U",
    "outputId": "cc667d43-28cf-42d4-d719-c2bc02888d30"
   },
   "outputs": [
    {
     "name": "stdout",
     "output_type": "stream",
     "text": [
      "Epoch 1/100\n"
     ]
    },
    {
     "name": "stderr",
     "output_type": "stream",
     "text": [
      "2024-08-10 17:12:19.499412: W tensorflow/tsl/platform/profile_utils/cpu_utils.cc:128] Failed to get CPU frequency: 0 Hz\n"
     ]
    },
    {
     "name": "stdout",
     "output_type": "stream",
     "text": [
      "35/35 [==============================] - 0s 548us/step - loss: 1.1585 - department_output_loss: 0.6173 - attrition_output_loss: 0.5412 - department_output_accuracy: 0.6388 - attrition_output_accuracy: 0.8031\n",
      "Epoch 2/100\n",
      "35/35 [==============================] - 0s 481us/step - loss: 1.0097 - department_output_loss: 0.5868 - attrition_output_loss: 0.4230 - department_output_accuracy: 0.6978 - attrition_output_accuracy: 0.8348\n",
      "Epoch 3/100\n",
      "35/35 [==============================] - 0s 494us/step - loss: 0.9784 - department_output_loss: 0.5828 - attrition_output_loss: 0.3956 - department_output_accuracy: 0.6960 - attrition_output_accuracy: 0.8358\n",
      "Epoch 4/100\n",
      "35/35 [==============================] - 0s 512us/step - loss: 0.9565 - department_output_loss: 0.5771 - attrition_output_loss: 0.3794 - department_output_accuracy: 0.6987 - attrition_output_accuracy: 0.8466\n",
      "Epoch 5/100\n",
      "35/35 [==============================] - 0s 510us/step - loss: 0.9500 - department_output_loss: 0.5757 - attrition_output_loss: 0.3743 - department_output_accuracy: 0.7051 - attrition_output_accuracy: 0.8539\n",
      "Epoch 6/100\n",
      "35/35 [==============================] - 0s 522us/step - loss: 0.9517 - department_output_loss: 0.5826 - attrition_output_loss: 0.3691 - department_output_accuracy: 0.6969 - attrition_output_accuracy: 0.8548\n",
      "Epoch 7/100\n",
      "35/35 [==============================] - 0s 512us/step - loss: 0.9819 - department_output_loss: 0.6078 - attrition_output_loss: 0.3741 - department_output_accuracy: 0.6715 - attrition_output_accuracy: 0.8621\n",
      "Epoch 8/100\n",
      "35/35 [==============================] - 0s 503us/step - loss: 1.0413 - department_output_loss: 0.6598 - attrition_output_loss: 0.3815 - department_output_accuracy: 0.6479 - attrition_output_accuracy: 0.8503\n",
      "Epoch 9/100\n",
      "35/35 [==============================] - 0s 495us/step - loss: 1.0212 - department_output_loss: 0.6465 - attrition_output_loss: 0.3747 - department_output_accuracy: 0.6316 - attrition_output_accuracy: 0.8485\n",
      "Epoch 10/100\n",
      "35/35 [==============================] - 0s 496us/step - loss: 1.3199 - department_output_loss: 0.8853 - attrition_output_loss: 0.4346 - department_output_accuracy: 0.6071 - attrition_output_accuracy: 0.8267\n",
      "Epoch 11/100\n",
      "35/35 [==============================] - 0s 503us/step - loss: 1.1195 - department_output_loss: 0.6995 - attrition_output_loss: 0.4200 - department_output_accuracy: 0.6325 - attrition_output_accuracy: 0.8376\n",
      "Epoch 12/100\n",
      "35/35 [==============================] - 0s 494us/step - loss: 1.1950 - department_output_loss: 0.8185 - attrition_output_loss: 0.3765 - department_output_accuracy: 0.6080 - attrition_output_accuracy: 0.8593\n",
      "Epoch 13/100\n",
      "35/35 [==============================] - 0s 510us/step - loss: 1.6353 - department_output_loss: 1.2326 - attrition_output_loss: 0.4027 - department_output_accuracy: 0.5953 - attrition_output_accuracy: 0.8430\n",
      "Epoch 14/100\n",
      "35/35 [==============================] - 0s 494us/step - loss: 2.3162 - department_output_loss: 1.8440 - attrition_output_loss: 0.4721 - department_output_accuracy: 0.5826 - attrition_output_accuracy: 0.8158\n",
      "Epoch 15/100\n",
      "35/35 [==============================] - 0s 503us/step - loss: 2.7123 - department_output_loss: 2.1284 - attrition_output_loss: 0.5839 - department_output_accuracy: 0.5817 - attrition_output_accuracy: 0.8167\n",
      "Epoch 16/100\n",
      "35/35 [==============================] - 0s 490us/step - loss: 5.7951 - department_output_loss: 5.1983 - attrition_output_loss: 0.5968 - department_output_accuracy: 0.5980 - attrition_output_accuracy: 0.8321\n",
      "Epoch 17/100\n",
      "35/35 [==============================] - 0s 498us/step - loss: 4.6381 - department_output_loss: 4.0878 - attrition_output_loss: 0.5503 - department_output_accuracy: 0.5871 - attrition_output_accuracy: 0.8394\n",
      "Epoch 18/100\n",
      "35/35 [==============================] - 0s 511us/step - loss: 9.6401 - department_output_loss: 9.0125 - attrition_output_loss: 0.6276 - department_output_accuracy: 0.5780 - attrition_output_accuracy: 0.8430\n",
      "Epoch 19/100\n",
      "35/35 [==============================] - 0s 499us/step - loss: 11.1608 - department_output_loss: 10.5230 - attrition_output_loss: 0.6378 - department_output_accuracy: 0.5463 - attrition_output_accuracy: 0.8285\n",
      "Epoch 20/100\n",
      "35/35 [==============================] - 0s 502us/step - loss: 7.1780 - department_output_loss: 6.5591 - attrition_output_loss: 0.6189 - department_output_accuracy: 0.5744 - attrition_output_accuracy: 0.8330\n",
      "Epoch 21/100\n",
      "35/35 [==============================] - 0s 509us/step - loss: 10.1153 - department_output_loss: 9.0813 - attrition_output_loss: 1.0340 - department_output_accuracy: 0.5853 - attrition_output_accuracy: 0.8094\n",
      "Epoch 22/100\n",
      "35/35 [==============================] - 0s 515us/step - loss: 13.6478 - department_output_loss: 12.8808 - attrition_output_loss: 0.7670 - department_output_accuracy: 0.5554 - attrition_output_accuracy: 0.8240\n",
      "Epoch 23/100\n",
      "35/35 [==============================] - 0s 494us/step - loss: 19.6737 - department_output_loss: 19.0836 - attrition_output_loss: 0.5901 - department_output_accuracy: 0.5753 - attrition_output_accuracy: 0.8240\n",
      "Epoch 24/100\n",
      "35/35 [==============================] - 0s 505us/step - loss: 12.6984 - department_output_loss: 11.7345 - attrition_output_loss: 0.9639 - department_output_accuracy: 0.5844 - attrition_output_accuracy: 0.8176\n",
      "Epoch 25/100\n",
      "35/35 [==============================] - 0s 506us/step - loss: 11.9868 - department_output_loss: 11.1564 - attrition_output_loss: 0.8304 - department_output_accuracy: 0.5635 - attrition_output_accuracy: 0.8312\n",
      "Epoch 26/100\n",
      "35/35 [==============================] - 0s 522us/step - loss: 12.4518 - department_output_loss: 11.0514 - attrition_output_loss: 1.4004 - department_output_accuracy: 0.5808 - attrition_output_accuracy: 0.8040\n",
      "Epoch 27/100\n",
      "35/35 [==============================] - 0s 513us/step - loss: 13.5959 - department_output_loss: 12.7763 - attrition_output_loss: 0.8196 - department_output_accuracy: 0.5917 - attrition_output_accuracy: 0.8094\n",
      "Epoch 28/100\n",
      "35/35 [==============================] - 0s 515us/step - loss: 34.6609 - department_output_loss: 33.7337 - attrition_output_loss: 0.9271 - department_output_accuracy: 0.5690 - attrition_output_accuracy: 0.8013\n",
      "Epoch 29/100\n",
      "35/35 [==============================] - 0s 506us/step - loss: 20.1268 - department_output_loss: 18.6326 - attrition_output_loss: 1.4942 - department_output_accuracy: 0.5826 - attrition_output_accuracy: 0.8094\n",
      "Epoch 30/100\n",
      "35/35 [==============================] - 0s 500us/step - loss: 28.2780 - department_output_loss: 26.5407 - attrition_output_loss: 1.7373 - department_output_accuracy: 0.5608 - attrition_output_accuracy: 0.7722\n",
      "Epoch 31/100\n",
      "35/35 [==============================] - 0s 494us/step - loss: 25.1428 - department_output_loss: 22.3722 - attrition_output_loss: 2.7706 - department_output_accuracy: 0.6007 - attrition_output_accuracy: 0.7750\n",
      "Epoch 32/100\n",
      "35/35 [==============================] - 0s 507us/step - loss: 40.8520 - department_output_loss: 38.7732 - attrition_output_loss: 2.0788 - department_output_accuracy: 0.5835 - attrition_output_accuracy: 0.7877\n",
      "Epoch 33/100\n",
      "35/35 [==============================] - 0s 513us/step - loss: 57.7920 - department_output_loss: 56.3568 - attrition_output_loss: 1.4352 - department_output_accuracy: 0.5771 - attrition_output_accuracy: 0.8258\n",
      "Epoch 34/100\n",
      "35/35 [==============================] - 0s 503us/step - loss: 46.2754 - department_output_loss: 45.5342 - attrition_output_loss: 0.7412 - department_output_accuracy: 0.5608 - attrition_output_accuracy: 0.8131\n",
      "Epoch 35/100\n",
      "35/35 [==============================] - 0s 491us/step - loss: 62.1451 - department_output_loss: 60.5368 - attrition_output_loss: 1.6083 - department_output_accuracy: 0.5590 - attrition_output_accuracy: 0.7795\n",
      "Epoch 36/100\n",
      "35/35 [==============================] - 0s 515us/step - loss: 58.4794 - department_output_loss: 56.6098 - attrition_output_loss: 1.8696 - department_output_accuracy: 0.5408 - attrition_output_accuracy: 0.8004\n",
      "Epoch 37/100\n",
      "35/35 [==============================] - 0s 516us/step - loss: 47.1287 - department_output_loss: 45.0215 - attrition_output_loss: 2.1072 - department_output_accuracy: 0.5653 - attrition_output_accuracy: 0.7695\n",
      "Epoch 38/100\n",
      "35/35 [==============================] - 0s 500us/step - loss: 88.7121 - department_output_loss: 87.5561 - attrition_output_loss: 1.1560 - department_output_accuracy: 0.5826 - attrition_output_accuracy: 0.7940\n",
      "Epoch 39/100\n",
      "35/35 [==============================] - 0s 506us/step - loss: 134.7237 - department_output_loss: 129.6653 - attrition_output_loss: 5.0584 - department_output_accuracy: 0.5771 - attrition_output_accuracy: 0.7568\n",
      "Epoch 40/100\n",
      "35/35 [==============================] - 0s 503us/step - loss: 75.4395 - department_output_loss: 72.9653 - attrition_output_loss: 2.4743 - department_output_accuracy: 0.5644 - attrition_output_accuracy: 0.8158\n",
      "Epoch 41/100\n",
      "35/35 [==============================] - 0s 487us/step - loss: 97.1227 - department_output_loss: 94.6040 - attrition_output_loss: 2.5187 - department_output_accuracy: 0.5599 - attrition_output_accuracy: 0.8158\n",
      "Epoch 42/100\n",
      "35/35 [==============================] - 0s 494us/step - loss: 47.9385 - department_output_loss: 44.8026 - attrition_output_loss: 3.1359 - department_output_accuracy: 0.5608 - attrition_output_accuracy: 0.7949\n",
      "Epoch 43/100\n",
      "35/35 [==============================] - 0s 512us/step - loss: 96.1234 - department_output_loss: 93.1570 - attrition_output_loss: 2.9663 - department_output_accuracy: 0.5826 - attrition_output_accuracy: 0.7731\n",
      "Epoch 44/100\n",
      "35/35 [==============================] - 0s 493us/step - loss: 158.0566 - department_output_loss: 155.9292 - attrition_output_loss: 2.1274 - department_output_accuracy: 0.5871 - attrition_output_accuracy: 0.8040\n",
      "Epoch 45/100\n",
      "35/35 [==============================] - 0s 504us/step - loss: 164.8278 - department_output_loss: 161.8058 - attrition_output_loss: 3.0221 - department_output_accuracy: 0.5953 - attrition_output_accuracy: 0.7604\n",
      "Epoch 46/100\n",
      "35/35 [==============================] - 0s 495us/step - loss: 84.7188 - department_output_loss: 83.2891 - attrition_output_loss: 1.4297 - department_output_accuracy: 0.5735 - attrition_output_accuracy: 0.7995\n",
      "Epoch 47/100\n",
      "35/35 [==============================] - 0s 483us/step - loss: 83.2820 - department_output_loss: 81.1632 - attrition_output_loss: 2.1189 - department_output_accuracy: 0.5780 - attrition_output_accuracy: 0.7967\n",
      "Epoch 48/100\n",
      "35/35 [==============================] - 0s 506us/step - loss: 131.6407 - department_output_loss: 128.6318 - attrition_output_loss: 3.0089 - department_output_accuracy: 0.5762 - attrition_output_accuracy: 0.7613\n",
      "Epoch 49/100\n",
      "35/35 [==============================] - 0s 507us/step - loss: 82.6480 - department_output_loss: 80.4954 - attrition_output_loss: 2.1525 - department_output_accuracy: 0.5817 - attrition_output_accuracy: 0.7976\n",
      "Epoch 50/100\n",
      "35/35 [==============================] - 0s 497us/step - loss: 214.2823 - department_output_loss: 212.7968 - attrition_output_loss: 1.4856 - department_output_accuracy: 0.5962 - attrition_output_accuracy: 0.7940\n",
      "Epoch 51/100\n",
      "35/35 [==============================] - 0s 497us/step - loss: 179.8572 - department_output_loss: 176.8907 - attrition_output_loss: 2.9665 - department_output_accuracy: 0.5681 - attrition_output_accuracy: 0.7904\n",
      "Epoch 52/100\n",
      "35/35 [==============================] - 0s 499us/step - loss: 255.4819 - department_output_loss: 252.5989 - attrition_output_loss: 2.8829 - department_output_accuracy: 0.5690 - attrition_output_accuracy: 0.8013\n",
      "Epoch 53/100\n",
      "35/35 [==============================] - 0s 518us/step - loss: 188.0722 - department_output_loss: 181.1455 - attrition_output_loss: 6.9266 - department_output_accuracy: 0.5898 - attrition_output_accuracy: 0.7232\n",
      "Epoch 54/100\n",
      "35/35 [==============================] - 0s 497us/step - loss: 184.0712 - department_output_loss: 179.6926 - attrition_output_loss: 4.3786 - department_output_accuracy: 0.5753 - attrition_output_accuracy: 0.8258\n",
      "Epoch 55/100\n",
      "35/35 [==============================] - 0s 520us/step - loss: 229.9888 - department_output_loss: 225.5510 - attrition_output_loss: 4.4377 - department_output_accuracy: 0.5662 - attrition_output_accuracy: 0.7595\n",
      "Epoch 56/100\n",
      "35/35 [==============================] - 0s 535us/step - loss: 294.2303 - department_output_loss: 291.0378 - attrition_output_loss: 3.1926 - department_output_accuracy: 0.5953 - attrition_output_accuracy: 0.8158\n",
      "Epoch 57/100\n",
      "35/35 [==============================] - 0s 521us/step - loss: 458.9377 - department_output_loss: 456.1008 - attrition_output_loss: 2.8370 - department_output_accuracy: 0.5426 - attrition_output_accuracy: 0.7668\n",
      "Epoch 58/100\n",
      "35/35 [==============================] - 0s 516us/step - loss: 201.3371 - department_output_loss: 198.1715 - attrition_output_loss: 3.1656 - department_output_accuracy: 0.6225 - attrition_output_accuracy: 0.8167\n",
      "Epoch 59/100\n",
      "35/35 [==============================] - 0s 509us/step - loss: 225.5022 - department_output_loss: 222.3360 - attrition_output_loss: 3.1662 - department_output_accuracy: 0.5599 - attrition_output_accuracy: 0.7886\n",
      "Epoch 60/100\n",
      "35/35 [==============================] - 0s 518us/step - loss: 157.9310 - department_output_loss: 154.0222 - attrition_output_loss: 3.9088 - department_output_accuracy: 0.5880 - attrition_output_accuracy: 0.7995\n",
      "Epoch 61/100\n",
      "35/35 [==============================] - 0s 522us/step - loss: 523.8118 - department_output_loss: 519.6672 - attrition_output_loss: 4.1446 - department_output_accuracy: 0.5944 - attrition_output_accuracy: 0.7949\n",
      "Epoch 62/100\n",
      "35/35 [==============================] - 0s 520us/step - loss: 297.6838 - department_output_loss: 290.3049 - attrition_output_loss: 7.3789 - department_output_accuracy: 0.5735 - attrition_output_accuracy: 0.7623\n",
      "Epoch 63/100\n",
      "35/35 [==============================] - 0s 522us/step - loss: 272.3546 - department_output_loss: 265.3902 - attrition_output_loss: 6.9644 - department_output_accuracy: 0.5554 - attrition_output_accuracy: 0.7169\n",
      "Epoch 64/100\n",
      "35/35 [==============================] - 0s 519us/step - loss: 458.4289 - department_output_loss: 451.6027 - attrition_output_loss: 6.8261 - department_output_accuracy: 0.5762 - attrition_output_accuracy: 0.7813\n",
      "Epoch 65/100\n",
      "35/35 [==============================] - 0s 513us/step - loss: 266.4100 - department_output_loss: 263.1745 - attrition_output_loss: 3.2355 - department_output_accuracy: 0.5436 - attrition_output_accuracy: 0.7804\n",
      "Epoch 66/100\n",
      "35/35 [==============================] - 0s 505us/step - loss: 125.3582 - department_output_loss: 122.1532 - attrition_output_loss: 3.2050 - department_output_accuracy: 0.5762 - attrition_output_accuracy: 0.7931\n",
      "Epoch 67/100\n",
      "35/35 [==============================] - 0s 519us/step - loss: 273.4019 - department_output_loss: 268.1613 - attrition_output_loss: 5.2407 - department_output_accuracy: 0.5699 - attrition_output_accuracy: 0.8058\n",
      "Epoch 68/100\n",
      "35/35 [==============================] - 0s 508us/step - loss: 227.5446 - department_output_loss: 221.0971 - attrition_output_loss: 6.4475 - department_output_accuracy: 0.5644 - attrition_output_accuracy: 0.7559\n",
      "Epoch 69/100\n",
      "35/35 [==============================] - 0s 504us/step - loss: 281.5916 - department_output_loss: 276.7584 - attrition_output_loss: 4.8332 - department_output_accuracy: 0.5717 - attrition_output_accuracy: 0.8076\n",
      "Epoch 70/100\n",
      "35/35 [==============================] - 0s 496us/step - loss: 508.1582 - department_output_loss: 504.1231 - attrition_output_loss: 4.0351 - department_output_accuracy: 0.5608 - attrition_output_accuracy: 0.7868\n",
      "Epoch 71/100\n",
      "35/35 [==============================] - 0s 496us/step - loss: 438.3586 - department_output_loss: 436.2249 - attrition_output_loss: 2.1337 - department_output_accuracy: 0.6080 - attrition_output_accuracy: 0.8122\n",
      "Epoch 72/100\n",
      "35/35 [==============================] - 0s 495us/step - loss: 252.2104 - department_output_loss: 248.3878 - attrition_output_loss: 3.8226 - department_output_accuracy: 0.5699 - attrition_output_accuracy: 0.8022\n",
      "Epoch 73/100\n",
      "35/35 [==============================] - 0s 498us/step - loss: 553.0822 - department_output_loss: 549.8857 - attrition_output_loss: 3.1964 - department_output_accuracy: 0.5608 - attrition_output_accuracy: 0.7695\n",
      "Epoch 74/100\n",
      "35/35 [==============================] - 0s 492us/step - loss: 761.8688 - department_output_loss: 759.0104 - attrition_output_loss: 2.8585 - department_output_accuracy: 0.5871 - attrition_output_accuracy: 0.7949\n",
      "Epoch 75/100\n",
      "35/35 [==============================] - 0s 497us/step - loss: 715.3264 - department_output_loss: 710.8465 - attrition_output_loss: 4.4799 - department_output_accuracy: 0.5554 - attrition_output_accuracy: 0.7541\n",
      "Epoch 76/100\n",
      "35/35 [==============================] - 0s 496us/step - loss: 401.7894 - department_output_loss: 398.2300 - attrition_output_loss: 3.5594 - department_output_accuracy: 0.5662 - attrition_output_accuracy: 0.7632\n",
      "Epoch 77/100\n",
      "35/35 [==============================] - 0s 495us/step - loss: 819.9762 - department_output_loss: 817.6801 - attrition_output_loss: 2.2960 - department_output_accuracy: 0.5590 - attrition_output_accuracy: 0.7922\n",
      "Epoch 78/100\n",
      "35/35 [==============================] - 0s 490us/step - loss: 428.9234 - department_output_loss: 422.7161 - attrition_output_loss: 6.2074 - department_output_accuracy: 0.5744 - attrition_output_accuracy: 0.7505\n",
      "Epoch 79/100\n",
      "35/35 [==============================] - 0s 494us/step - loss: 555.7811 - department_output_loss: 550.6666 - attrition_output_loss: 5.1145 - department_output_accuracy: 0.5463 - attrition_output_accuracy: 0.7450\n",
      "Epoch 80/100\n",
      "35/35 [==============================] - 0s 519us/step - loss: 738.7876 - department_output_loss: 735.6912 - attrition_output_loss: 3.0964 - department_output_accuracy: 0.5717 - attrition_output_accuracy: 0.7695\n",
      "Epoch 81/100\n",
      "35/35 [==============================] - 0s 524us/step - loss: 721.7440 - department_output_loss: 716.9437 - attrition_output_loss: 4.8002 - department_output_accuracy: 0.5862 - attrition_output_accuracy: 0.7904\n",
      "Epoch 82/100\n",
      "35/35 [==============================] - 0s 546us/step - loss: 304.8024 - department_output_loss: 296.4675 - attrition_output_loss: 8.3349 - department_output_accuracy: 0.5835 - attrition_output_accuracy: 0.7686\n",
      "Epoch 83/100\n",
      "35/35 [==============================] - 0s 525us/step - loss: 593.6786 - department_output_loss: 586.6735 - attrition_output_loss: 7.0052 - department_output_accuracy: 0.5626 - attrition_output_accuracy: 0.8339\n",
      "Epoch 84/100\n",
      "35/35 [==============================] - 0s 550us/step - loss: 371.0661 - department_output_loss: 367.8271 - attrition_output_loss: 3.2390 - department_output_accuracy: 0.5599 - attrition_output_accuracy: 0.8022\n",
      "Epoch 85/100\n",
      "35/35 [==============================] - 0s 549us/step - loss: 984.8535 - department_output_loss: 981.9233 - attrition_output_loss: 2.9302 - department_output_accuracy: 0.5771 - attrition_output_accuracy: 0.7831\n",
      "Epoch 86/100\n",
      "35/35 [==============================] - 0s 531us/step - loss: 585.4633 - department_output_loss: 576.6431 - attrition_output_loss: 8.8202 - department_output_accuracy: 0.5780 - attrition_output_accuracy: 0.7396\n",
      "Epoch 87/100\n",
      "35/35 [==============================] - 0s 527us/step - loss: 993.2197 - department_output_loss: 986.1629 - attrition_output_loss: 7.0569 - department_output_accuracy: 0.5608 - attrition_output_accuracy: 0.8031\n",
      "Epoch 88/100\n",
      "35/35 [==============================] - 0s 525us/step - loss: 750.4973 - department_output_loss: 748.0292 - attrition_output_loss: 2.4679 - department_output_accuracy: 0.5572 - attrition_output_accuracy: 0.7849\n",
      "Epoch 89/100\n",
      "35/35 [==============================] - 0s 523us/step - loss: 1541.0087 - department_output_loss: 1535.3805 - attrition_output_loss: 5.6281 - department_output_accuracy: 0.5753 - attrition_output_accuracy: 0.8085\n",
      "Epoch 90/100\n",
      "35/35 [==============================] - 0s 513us/step - loss: 582.4858 - department_output_loss: 576.1899 - attrition_output_loss: 6.2959 - department_output_accuracy: 0.5590 - attrition_output_accuracy: 0.8176\n",
      "Epoch 91/100\n",
      "35/35 [==============================] - 0s 498us/step - loss: 444.4951 - department_output_loss: 438.7964 - attrition_output_loss: 5.6987 - department_output_accuracy: 0.5789 - attrition_output_accuracy: 0.7895\n",
      "Epoch 92/100\n",
      "35/35 [==============================] - 0s 499us/step - loss: 1282.5024 - department_output_loss: 1275.5968 - attrition_output_loss: 6.9058 - department_output_accuracy: 0.5209 - attrition_output_accuracy: 0.7731\n",
      "Epoch 93/100\n",
      "35/35 [==============================] - 0s 545us/step - loss: 800.9544 - department_output_loss: 790.8624 - attrition_output_loss: 10.0919 - department_output_accuracy: 0.5844 - attrition_output_accuracy: 0.7568\n",
      "Epoch 94/100\n",
      "35/35 [==============================] - 0s 536us/step - loss: 862.4348 - department_output_loss: 854.8879 - attrition_output_loss: 7.5470 - department_output_accuracy: 0.5862 - attrition_output_accuracy: 0.7405\n",
      "Epoch 95/100\n",
      "35/35 [==============================] - 0s 549us/step - loss: 1025.3485 - department_output_loss: 1019.5546 - attrition_output_loss: 5.7938 - department_output_accuracy: 0.5817 - attrition_output_accuracy: 0.7414\n",
      "Epoch 96/100\n",
      "35/35 [==============================] - 0s 516us/step - loss: 1371.6885 - department_output_loss: 1357.7389 - attrition_output_loss: 13.9496 - department_output_accuracy: 0.5426 - attrition_output_accuracy: 0.7423\n",
      "Epoch 97/100\n",
      "35/35 [==============================] - 0s 513us/step - loss: 1312.8846 - department_output_loss: 1300.8557 - attrition_output_loss: 12.0293 - department_output_accuracy: 0.5989 - attrition_output_accuracy: 0.7432\n",
      "Epoch 98/100\n",
      "35/35 [==============================] - 0s 502us/step - loss: 1273.6412 - department_output_loss: 1268.1655 - attrition_output_loss: 5.4758 - department_output_accuracy: 0.5780 - attrition_output_accuracy: 0.8013\n",
      "Epoch 99/100\n",
      "35/35 [==============================] - 0s 518us/step - loss: 965.4377 - department_output_loss: 961.2628 - attrition_output_loss: 4.1751 - department_output_accuracy: 0.5436 - attrition_output_accuracy: 0.7995\n",
      "Epoch 100/100\n",
      "35/35 [==============================] - 0s 509us/step - loss: 795.9960 - department_output_loss: 789.7418 - attrition_output_loss: 6.2541 - department_output_accuracy: 0.5699 - attrition_output_accuracy: 0.7287\n"
     ]
    }
   ],
   "source": [
    "# Train the model\n",
    "\n",
    "fit_model = nn_model.fit(X_train_scaled, {'department_output': y_department_train, 'attrition_output': y_attrition_train}, epochs=100)"
   ]
  },
  {
   "cell_type": "code",
   "execution_count": 38,
   "metadata": {
    "colab": {
     "base_uri": "https://localhost:8080/"
    },
    "id": "VsMoaQlgGc3U",
    "outputId": "1bd4e601-e964-4abc-ad83-aeecf6b696be"
   },
   "outputs": [
    {
     "name": "stdout",
     "output_type": "stream",
     "text": [
      "12/12 [==============================] - 0s 567us/step - loss: 85.1302 - department_output_loss: 83.6755 - attrition_output_loss: 1.4547 - department_output_accuracy: 0.6685 - attrition_output_accuracy: 0.8370\n"
     ]
    },
    {
     "data": {
      "text/plain": [
       "[85.1302261352539,\n",
       " 83.6755142211914,\n",
       " 1.4547137022018433,\n",
       " 0.66847825050354,\n",
       " 0.8369565010070801]"
      ]
     },
     "execution_count": 38,
     "metadata": {},
     "output_type": "execute_result"
    }
   ],
   "source": [
    "# Evaluate the model with the testing data\n",
    "test_results = nn_model.evaluate(X_test_scaled, {'department_output': y_department_test, 'attrition_output': y_attrition_test})\n",
    "test_results"
   ]
  },
  {
   "cell_type": "code",
   "execution_count": 39,
   "metadata": {
    "colab": {
     "base_uri": "https://localhost:8080/"
    },
    "id": "ZlCtlHi0Vt54",
    "outputId": "bc21ef3e-80c2-4b38-9c29-79515bc23dec"
   },
   "outputs": [
    {
     "name": "stdout",
     "output_type": "stream",
     "text": [
      "Department predictions accuracy: 0.66847825050354\n",
      "Attrition predictions accuracy: 0.8369565010070801\n"
     ]
    }
   ],
   "source": [
    "# Print the accuracy for both department and attrition\n",
    "print(f\"Department predictions accuracy: {test_results[3]}\")\n",
    "print(f\"Attrition predictions accuracy: {test_results[4]}\")"
   ]
  },
  {
   "cell_type": "markdown",
   "metadata": {
    "id": "eGSyfsZfWOQM"
   },
   "source": [
    "# Summary\n",
    "\n",
    "In the provided space below, briefly answer the following questions.\n",
    "\n",
    "1. Is accuracy the best metric to use on this data? Why or why not?\n",
    "\n",
    "2. What activation functions did you choose for your output layers, and why?\n",
    "\n",
    "3. Can you name a few ways that this model might be improved?"
   ]
  },
  {
   "cell_type": "markdown",
   "metadata": {
    "id": "pi9SLpFnWvbF"
   },
   "source": [
    "YOUR ANSWERS HERE\n",
    "\n",
    "1. Accuracy may not be the best metric if the dataset is imbalanced, which is common in attrition datasets where the number of employees who stay may significantly outnumber those who leave. In such cases, metrics like precision, recall, or the F1-score might provide better insights into the model's performance, especially for predicting the minority class.\n",
    "2. The activation function for the output layer likely depends on the task. For a binary classification problem like employee attrition, a sigmoid activation function would be appropriate as it outputs probabilities between 0 and 1, which can be interpreted as the likelihood of attrition.\n",
    "3. Feature Engineering: Adding more relevant features or transforming existing features (e.g., interaction terms) could improve the model's predictive power.\n",
    "Hyperparameter Tuning: Experimenting with different architectures, learning rates, or regularization methods could optimize the model's performance.\n",
    "Handling Imbalance: Techniques like SMOTE for oversampling, undersampling, or adjusting class weights can address any imbalance in the dataset, leading to better performance on minority classes.\n",
    "Model Ensemble: Combining predictions from multiple models (e.g., using bagging, boosting, or stacking) could lead to improved accuracy and generalization."
   ]
  },
  {
   "cell_type": "markdown",
   "metadata": {},
   "source": []
  },
  {
   "cell_type": "code",
   "execution_count": null,
   "metadata": {},
   "outputs": [],
   "source": []
  }
 ],
 "metadata": {
  "colab": {
   "provenance": []
  },
  "kernelspec": {
   "display_name": "Python 3 (ipykernel)",
   "language": "python",
   "name": "python3"
  },
  "language_info": {
   "codemirror_mode": {
    "name": "ipython",
    "version": 3
   },
   "file_extension": ".py",
   "mimetype": "text/x-python",
   "name": "python",
   "nbconvert_exporter": "python",
   "pygments_lexer": "ipython3",
   "version": "3.10.12"
  },
  "vscode": {
   "interpreter": {
    "hash": "31f2aee4e71d21fbe5cf8b01ff0e069b9275f58929596ceb00d14d90e3e16cd6"
   }
  }
 },
 "nbformat": 4,
 "nbformat_minor": 4
}
